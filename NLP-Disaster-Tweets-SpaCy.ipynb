{
 "cells": [
  {
   "cell_type": "code",
   "execution_count": 2,
   "id": "0ded599b",
   "metadata": {},
   "outputs": [],
   "source": [
    "import pandas as pd\n",
    "import numpy as np\n",
    "import spacy\n",
    "import re\n",
    "from nltk.corpus import stopwords"
   ]
  },
  {
   "cell_type": "code",
   "execution_count": 3,
   "id": "5866b178",
   "metadata": {},
   "outputs": [],
   "source": [
    "from sklearn.metrics import accuracy_score\n",
    "from sklearn.metrics import classification_report\n",
    "from sklearn.metrics import confusion_matrix"
   ]
  },
  {
   "cell_type": "code",
   "execution_count": 4,
   "id": "6efbaf05",
   "metadata": {},
   "outputs": [],
   "source": [
    "train_df = pd.read_csv('train.csv')\n",
    "test_df = pd.read_csv('test.csv')"
   ]
  },
  {
   "cell_type": "code",
   "execution_count": 5,
   "id": "97758e62",
   "metadata": {},
   "outputs": [
    {
     "data": {
      "text/html": [
       "<div>\n",
       "<style scoped>\n",
       "    .dataframe tbody tr th:only-of-type {\n",
       "        vertical-align: middle;\n",
       "    }\n",
       "\n",
       "    .dataframe tbody tr th {\n",
       "        vertical-align: top;\n",
       "    }\n",
       "\n",
       "    .dataframe thead th {\n",
       "        text-align: right;\n",
       "    }\n",
       "</style>\n",
       "<table border=\"1\" class=\"dataframe\">\n",
       "  <thead>\n",
       "    <tr style=\"text-align: right;\">\n",
       "      <th></th>\n",
       "      <th>id</th>\n",
       "      <th>keyword</th>\n",
       "      <th>location</th>\n",
       "      <th>text</th>\n",
       "      <th>target</th>\n",
       "    </tr>\n",
       "  </thead>\n",
       "  <tbody>\n",
       "    <tr>\n",
       "      <th>0</th>\n",
       "      <td>1</td>\n",
       "      <td>NaN</td>\n",
       "      <td>NaN</td>\n",
       "      <td>Our Deeds are the Reason of this #earthquake M...</td>\n",
       "      <td>1</td>\n",
       "    </tr>\n",
       "    <tr>\n",
       "      <th>1</th>\n",
       "      <td>4</td>\n",
       "      <td>NaN</td>\n",
       "      <td>NaN</td>\n",
       "      <td>Forest fire near La Ronge Sask. Canada</td>\n",
       "      <td>1</td>\n",
       "    </tr>\n",
       "    <tr>\n",
       "      <th>2</th>\n",
       "      <td>5</td>\n",
       "      <td>NaN</td>\n",
       "      <td>NaN</td>\n",
       "      <td>All residents asked to 'shelter in place' are ...</td>\n",
       "      <td>1</td>\n",
       "    </tr>\n",
       "    <tr>\n",
       "      <th>3</th>\n",
       "      <td>6</td>\n",
       "      <td>NaN</td>\n",
       "      <td>NaN</td>\n",
       "      <td>13,000 people receive #wildfires evacuation or...</td>\n",
       "      <td>1</td>\n",
       "    </tr>\n",
       "    <tr>\n",
       "      <th>4</th>\n",
       "      <td>7</td>\n",
       "      <td>NaN</td>\n",
       "      <td>NaN</td>\n",
       "      <td>Just got sent this photo from Ruby #Alaska as ...</td>\n",
       "      <td>1</td>\n",
       "    </tr>\n",
       "    <tr>\n",
       "      <th>...</th>\n",
       "      <td>...</td>\n",
       "      <td>...</td>\n",
       "      <td>...</td>\n",
       "      <td>...</td>\n",
       "      <td>...</td>\n",
       "    </tr>\n",
       "    <tr>\n",
       "      <th>7608</th>\n",
       "      <td>10869</td>\n",
       "      <td>NaN</td>\n",
       "      <td>NaN</td>\n",
       "      <td>Two giant cranes holding a bridge collapse int...</td>\n",
       "      <td>1</td>\n",
       "    </tr>\n",
       "    <tr>\n",
       "      <th>7609</th>\n",
       "      <td>10870</td>\n",
       "      <td>NaN</td>\n",
       "      <td>NaN</td>\n",
       "      <td>@aria_ahrary @TheTawniest The out of control w...</td>\n",
       "      <td>1</td>\n",
       "    </tr>\n",
       "    <tr>\n",
       "      <th>7610</th>\n",
       "      <td>10871</td>\n",
       "      <td>NaN</td>\n",
       "      <td>NaN</td>\n",
       "      <td>M1.94 [01:04 UTC]?5km S of Volcano Hawaii. htt...</td>\n",
       "      <td>1</td>\n",
       "    </tr>\n",
       "    <tr>\n",
       "      <th>7611</th>\n",
       "      <td>10872</td>\n",
       "      <td>NaN</td>\n",
       "      <td>NaN</td>\n",
       "      <td>Police investigating after an e-bike collided ...</td>\n",
       "      <td>1</td>\n",
       "    </tr>\n",
       "    <tr>\n",
       "      <th>7612</th>\n",
       "      <td>10873</td>\n",
       "      <td>NaN</td>\n",
       "      <td>NaN</td>\n",
       "      <td>The Latest: More Homes Razed by Northern Calif...</td>\n",
       "      <td>1</td>\n",
       "    </tr>\n",
       "  </tbody>\n",
       "</table>\n",
       "<p>7613 rows × 5 columns</p>\n",
       "</div>"
      ],
      "text/plain": [
       "         id keyword location  \\\n",
       "0         1     NaN      NaN   \n",
       "1         4     NaN      NaN   \n",
       "2         5     NaN      NaN   \n",
       "3         6     NaN      NaN   \n",
       "4         7     NaN      NaN   \n",
       "...     ...     ...      ...   \n",
       "7608  10869     NaN      NaN   \n",
       "7609  10870     NaN      NaN   \n",
       "7610  10871     NaN      NaN   \n",
       "7611  10872     NaN      NaN   \n",
       "7612  10873     NaN      NaN   \n",
       "\n",
       "                                                   text  target  \n",
       "0     Our Deeds are the Reason of this #earthquake M...       1  \n",
       "1                Forest fire near La Ronge Sask. Canada       1  \n",
       "2     All residents asked to 'shelter in place' are ...       1  \n",
       "3     13,000 people receive #wildfires evacuation or...       1  \n",
       "4     Just got sent this photo from Ruby #Alaska as ...       1  \n",
       "...                                                 ...     ...  \n",
       "7608  Two giant cranes holding a bridge collapse int...       1  \n",
       "7609  @aria_ahrary @TheTawniest The out of control w...       1  \n",
       "7610  M1.94 [01:04 UTC]?5km S of Volcano Hawaii. htt...       1  \n",
       "7611  Police investigating after an e-bike collided ...       1  \n",
       "7612  The Latest: More Homes Razed by Northern Calif...       1  \n",
       "\n",
       "[7613 rows x 5 columns]"
      ]
     },
     "execution_count": 5,
     "metadata": {},
     "output_type": "execute_result"
    }
   ],
   "source": [
    "train_df"
   ]
  },
  {
   "cell_type": "code",
   "execution_count": 6,
   "id": "e3ef6206",
   "metadata": {},
   "outputs": [
    {
     "data": {
      "text/html": [
       "<div>\n",
       "<style scoped>\n",
       "    .dataframe tbody tr th:only-of-type {\n",
       "        vertical-align: middle;\n",
       "    }\n",
       "\n",
       "    .dataframe tbody tr th {\n",
       "        vertical-align: top;\n",
       "    }\n",
       "\n",
       "    .dataframe thead th {\n",
       "        text-align: right;\n",
       "    }\n",
       "</style>\n",
       "<table border=\"1\" class=\"dataframe\">\n",
       "  <thead>\n",
       "    <tr style=\"text-align: right;\">\n",
       "      <th></th>\n",
       "      <th>id</th>\n",
       "      <th>keyword</th>\n",
       "      <th>location</th>\n",
       "      <th>text</th>\n",
       "    </tr>\n",
       "  </thead>\n",
       "  <tbody>\n",
       "    <tr>\n",
       "      <th>0</th>\n",
       "      <td>0</td>\n",
       "      <td>NaN</td>\n",
       "      <td>NaN</td>\n",
       "      <td>Just happened a terrible car crash</td>\n",
       "    </tr>\n",
       "    <tr>\n",
       "      <th>1</th>\n",
       "      <td>2</td>\n",
       "      <td>NaN</td>\n",
       "      <td>NaN</td>\n",
       "      <td>Heard about #earthquake is different cities, s...</td>\n",
       "    </tr>\n",
       "    <tr>\n",
       "      <th>2</th>\n",
       "      <td>3</td>\n",
       "      <td>NaN</td>\n",
       "      <td>NaN</td>\n",
       "      <td>there is a forest fire at spot pond, geese are...</td>\n",
       "    </tr>\n",
       "    <tr>\n",
       "      <th>3</th>\n",
       "      <td>9</td>\n",
       "      <td>NaN</td>\n",
       "      <td>NaN</td>\n",
       "      <td>Apocalypse lighting. #Spokane #wildfires</td>\n",
       "    </tr>\n",
       "    <tr>\n",
       "      <th>4</th>\n",
       "      <td>11</td>\n",
       "      <td>NaN</td>\n",
       "      <td>NaN</td>\n",
       "      <td>Typhoon Soudelor kills 28 in China and Taiwan</td>\n",
       "    </tr>\n",
       "    <tr>\n",
       "      <th>...</th>\n",
       "      <td>...</td>\n",
       "      <td>...</td>\n",
       "      <td>...</td>\n",
       "      <td>...</td>\n",
       "    </tr>\n",
       "    <tr>\n",
       "      <th>3258</th>\n",
       "      <td>10861</td>\n",
       "      <td>NaN</td>\n",
       "      <td>NaN</td>\n",
       "      <td>EARTHQUAKE SAFETY LOS ANGELES ÛÒ SAFETY FASTE...</td>\n",
       "    </tr>\n",
       "    <tr>\n",
       "      <th>3259</th>\n",
       "      <td>10865</td>\n",
       "      <td>NaN</td>\n",
       "      <td>NaN</td>\n",
       "      <td>Storm in RI worse than last hurricane. My city...</td>\n",
       "    </tr>\n",
       "    <tr>\n",
       "      <th>3260</th>\n",
       "      <td>10868</td>\n",
       "      <td>NaN</td>\n",
       "      <td>NaN</td>\n",
       "      <td>Green Line derailment in Chicago http://t.co/U...</td>\n",
       "    </tr>\n",
       "    <tr>\n",
       "      <th>3261</th>\n",
       "      <td>10874</td>\n",
       "      <td>NaN</td>\n",
       "      <td>NaN</td>\n",
       "      <td>MEG issues Hazardous Weather Outlook (HWO) htt...</td>\n",
       "    </tr>\n",
       "    <tr>\n",
       "      <th>3262</th>\n",
       "      <td>10875</td>\n",
       "      <td>NaN</td>\n",
       "      <td>NaN</td>\n",
       "      <td>#CityofCalgary has activated its Municipal Eme...</td>\n",
       "    </tr>\n",
       "  </tbody>\n",
       "</table>\n",
       "<p>3263 rows × 4 columns</p>\n",
       "</div>"
      ],
      "text/plain": [
       "         id keyword location  \\\n",
       "0         0     NaN      NaN   \n",
       "1         2     NaN      NaN   \n",
       "2         3     NaN      NaN   \n",
       "3         9     NaN      NaN   \n",
       "4        11     NaN      NaN   \n",
       "...     ...     ...      ...   \n",
       "3258  10861     NaN      NaN   \n",
       "3259  10865     NaN      NaN   \n",
       "3260  10868     NaN      NaN   \n",
       "3261  10874     NaN      NaN   \n",
       "3262  10875     NaN      NaN   \n",
       "\n",
       "                                                   text  \n",
       "0                    Just happened a terrible car crash  \n",
       "1     Heard about #earthquake is different cities, s...  \n",
       "2     there is a forest fire at spot pond, geese are...  \n",
       "3              Apocalypse lighting. #Spokane #wildfires  \n",
       "4         Typhoon Soudelor kills 28 in China and Taiwan  \n",
       "...                                                 ...  \n",
       "3258  EARTHQUAKE SAFETY LOS ANGELES ÛÒ SAFETY FASTE...  \n",
       "3259  Storm in RI worse than last hurricane. My city...  \n",
       "3260  Green Line derailment in Chicago http://t.co/U...  \n",
       "3261  MEG issues Hazardous Weather Outlook (HWO) htt...  \n",
       "3262  #CityofCalgary has activated its Municipal Eme...  \n",
       "\n",
       "[3263 rows x 4 columns]"
      ]
     },
     "execution_count": 6,
     "metadata": {},
     "output_type": "execute_result"
    }
   ],
   "source": [
    "test_df"
   ]
  },
  {
   "cell_type": "code",
   "execution_count": 7,
   "id": "e5aba663",
   "metadata": {},
   "outputs": [
    {
     "name": "stdout",
     "output_type": "stream",
     "text": [
      "<class 'pandas.core.frame.DataFrame'>\n",
      "RangeIndex: 7613 entries, 0 to 7612\n",
      "Data columns (total 5 columns):\n",
      " #   Column    Non-Null Count  Dtype \n",
      "---  ------    --------------  ----- \n",
      " 0   id        7613 non-null   int64 \n",
      " 1   keyword   7552 non-null   object\n",
      " 2   location  5080 non-null   object\n",
      " 3   text      7613 non-null   object\n",
      " 4   target    7613 non-null   int64 \n",
      "dtypes: int64(2), object(3)\n",
      "memory usage: 297.5+ KB\n"
     ]
    }
   ],
   "source": [
    "train_df.info()"
   ]
  },
  {
   "cell_type": "code",
   "execution_count": 8,
   "id": "c3941d66",
   "metadata": {},
   "outputs": [],
   "source": [
    "train_df = train_df.drop(['id','keyword','location'], axis=1)"
   ]
  },
  {
   "cell_type": "code",
   "execution_count": 9,
   "id": "806dc853",
   "metadata": {},
   "outputs": [],
   "source": [
    "nlp = spacy.load('en_core_web_sm')"
   ]
  },
  {
   "cell_type": "code",
   "execution_count": 10,
   "id": "dca071ac",
   "metadata": {},
   "outputs": [],
   "source": [
    "def data_cleaning(text):\n",
    "    processed_text = []\n",
    "    doc = nlp(text)\n",
    "    for token in doc:\n",
    "        if token.is_bracket or token.is_stop or token.like_email or token.like_url:\n",
    "            continue\n",
    "        elif token.is_alpha:\n",
    "            processed_text.append(token.lemma_.lower())\n",
    "        elif token.like_num:\n",
    "            processed_text.append(token.text)\n",
    "    return \" \".join(processed_text)"
   ]
  },
  {
   "cell_type": "code",
   "execution_count": 11,
   "id": "d5b2d7ec",
   "metadata": {},
   "outputs": [],
   "source": [
    "train_df['text'] = train_df['text'].apply(data_cleaning)"
   ]
  },
  {
   "cell_type": "code",
   "execution_count": 12,
   "id": "69212256",
   "metadata": {},
   "outputs": [
    {
     "data": {
      "text/html": [
       "<div>\n",
       "<style scoped>\n",
       "    .dataframe tbody tr th:only-of-type {\n",
       "        vertical-align: middle;\n",
       "    }\n",
       "\n",
       "    .dataframe tbody tr th {\n",
       "        vertical-align: top;\n",
       "    }\n",
       "\n",
       "    .dataframe thead th {\n",
       "        text-align: right;\n",
       "    }\n",
       "</style>\n",
       "<table border=\"1\" class=\"dataframe\">\n",
       "  <thead>\n",
       "    <tr style=\"text-align: right;\">\n",
       "      <th></th>\n",
       "      <th>text</th>\n",
       "      <th>target</th>\n",
       "    </tr>\n",
       "  </thead>\n",
       "  <tbody>\n",
       "    <tr>\n",
       "      <th>0</th>\n",
       "      <td>deed reason earthquake allah forgive</td>\n",
       "      <td>1</td>\n",
       "    </tr>\n",
       "    <tr>\n",
       "      <th>1</th>\n",
       "      <td>forest fire near la ronge sask canada</td>\n",
       "      <td>1</td>\n",
       "    </tr>\n",
       "    <tr>\n",
       "      <th>2</th>\n",
       "      <td>resident ask shelter place notify officer evac...</td>\n",
       "      <td>1</td>\n",
       "    </tr>\n",
       "    <tr>\n",
       "      <th>3</th>\n",
       "      <td>13,000 people receive wildfire evacuation orde...</td>\n",
       "      <td>1</td>\n",
       "    </tr>\n",
       "    <tr>\n",
       "      <th>4</th>\n",
       "      <td>got send photo ruby alaska smoke wildfire pour...</td>\n",
       "      <td>1</td>\n",
       "    </tr>\n",
       "    <tr>\n",
       "      <th>...</th>\n",
       "      <td>...</td>\n",
       "      <td>...</td>\n",
       "    </tr>\n",
       "    <tr>\n",
       "      <th>7608</th>\n",
       "      <td>giant crane hold bridge collapse nearby home</td>\n",
       "      <td>1</td>\n",
       "    </tr>\n",
       "    <tr>\n",
       "      <th>7609</th>\n",
       "      <td>control wild fire california northern state tr...</td>\n",
       "      <td>1</td>\n",
       "    </tr>\n",
       "    <tr>\n",
       "      <th>7610</th>\n",
       "      <td>km s volcano hawaii</td>\n",
       "      <td>1</td>\n",
       "    </tr>\n",
       "    <tr>\n",
       "      <th>7611</th>\n",
       "      <td>police investigate e bike collide car little p...</td>\n",
       "      <td>1</td>\n",
       "    </tr>\n",
       "    <tr>\n",
       "      <th>7612</th>\n",
       "      <td>late home raze northern california wildfire ab...</td>\n",
       "      <td>1</td>\n",
       "    </tr>\n",
       "  </tbody>\n",
       "</table>\n",
       "<p>7613 rows × 2 columns</p>\n",
       "</div>"
      ],
      "text/plain": [
       "                                                   text  target\n",
       "0                  deed reason earthquake allah forgive       1\n",
       "1                 forest fire near la ronge sask canada       1\n",
       "2     resident ask shelter place notify officer evac...       1\n",
       "3     13,000 people receive wildfire evacuation orde...       1\n",
       "4     got send photo ruby alaska smoke wildfire pour...       1\n",
       "...                                                 ...     ...\n",
       "7608       giant crane hold bridge collapse nearby home       1\n",
       "7609  control wild fire california northern state tr...       1\n",
       "7610                                km s volcano hawaii       1\n",
       "7611  police investigate e bike collide car little p...       1\n",
       "7612  late home raze northern california wildfire ab...       1\n",
       "\n",
       "[7613 rows x 2 columns]"
      ]
     },
     "execution_count": 12,
     "metadata": {},
     "output_type": "execute_result"
    }
   ],
   "source": [
    "train_df"
   ]
  },
  {
   "cell_type": "code",
   "execution_count": 13,
   "id": "b71be8fe",
   "metadata": {},
   "outputs": [],
   "source": [
    "train_df['vector'] = train_df['text'].apply(lambda x: nlp(x).vector)"
   ]
  },
  {
   "cell_type": "code",
   "execution_count": 14,
   "id": "8d4b3fa1",
   "metadata": {},
   "outputs": [
    {
     "data": {
      "text/html": [
       "<div>\n",
       "<style scoped>\n",
       "    .dataframe tbody tr th:only-of-type {\n",
       "        vertical-align: middle;\n",
       "    }\n",
       "\n",
       "    .dataframe tbody tr th {\n",
       "        vertical-align: top;\n",
       "    }\n",
       "\n",
       "    .dataframe thead th {\n",
       "        text-align: right;\n",
       "    }\n",
       "</style>\n",
       "<table border=\"1\" class=\"dataframe\">\n",
       "  <thead>\n",
       "    <tr style=\"text-align: right;\">\n",
       "      <th></th>\n",
       "      <th>text</th>\n",
       "      <th>target</th>\n",
       "      <th>vector</th>\n",
       "    </tr>\n",
       "  </thead>\n",
       "  <tbody>\n",
       "    <tr>\n",
       "      <th>0</th>\n",
       "      <td>deed reason earthquake allah forgive</td>\n",
       "      <td>1</td>\n",
       "      <td>[-0.89539003, -0.5874631, 0.08199149, -0.11371...</td>\n",
       "    </tr>\n",
       "    <tr>\n",
       "      <th>1</th>\n",
       "      <td>forest fire near la ronge sask canada</td>\n",
       "      <td>1</td>\n",
       "      <td>[0.07400574, -0.65609676, 0.013855304, -0.0177...</td>\n",
       "    </tr>\n",
       "    <tr>\n",
       "      <th>2</th>\n",
       "      <td>resident ask shelter place notify officer evac...</td>\n",
       "      <td>1</td>\n",
       "      <td>[-0.117496446, -0.99588853, -0.09731466, 0.196...</td>\n",
       "    </tr>\n",
       "    <tr>\n",
       "      <th>3</th>\n",
       "      <td>13,000 people receive wildfire evacuation orde...</td>\n",
       "      <td>1</td>\n",
       "      <td>[-0.0027969608, -0.56024474, -0.19756572, 0.53...</td>\n",
       "    </tr>\n",
       "    <tr>\n",
       "      <th>4</th>\n",
       "      <td>got send photo ruby alaska smoke wildfire pour...</td>\n",
       "      <td>1</td>\n",
       "      <td>[-0.11239079, -0.8295834, -0.023216102, 0.2934...</td>\n",
       "    </tr>\n",
       "    <tr>\n",
       "      <th>...</th>\n",
       "      <td>...</td>\n",
       "      <td>...</td>\n",
       "      <td>...</td>\n",
       "    </tr>\n",
       "    <tr>\n",
       "      <th>7608</th>\n",
       "      <td>giant crane hold bridge collapse nearby home</td>\n",
       "      <td>1</td>\n",
       "      <td>[0.31862608, -0.64759594, 0.1749067, 0.1417640...</td>\n",
       "    </tr>\n",
       "    <tr>\n",
       "      <th>7609</th>\n",
       "      <td>control wild fire california northern state tr...</td>\n",
       "      <td>1</td>\n",
       "      <td>[0.034349207, -0.72486347, 0.3763735, -0.00739...</td>\n",
       "    </tr>\n",
       "    <tr>\n",
       "      <th>7610</th>\n",
       "      <td>km s volcano hawaii</td>\n",
       "      <td>1</td>\n",
       "      <td>[-0.29387802, -0.42656365, 0.15048648, 0.29720...</td>\n",
       "    </tr>\n",
       "    <tr>\n",
       "      <th>7611</th>\n",
       "      <td>police investigate e bike collide car little p...</td>\n",
       "      <td>1</td>\n",
       "      <td>[-0.18011016, -0.75524974, 0.18318109, 0.01033...</td>\n",
       "    </tr>\n",
       "    <tr>\n",
       "      <th>7612</th>\n",
       "      <td>late home raze northern california wildfire ab...</td>\n",
       "      <td>1</td>\n",
       "      <td>[-0.22243857, -0.9344048, 0.23316473, 0.249122...</td>\n",
       "    </tr>\n",
       "  </tbody>\n",
       "</table>\n",
       "<p>7613 rows × 3 columns</p>\n",
       "</div>"
      ],
      "text/plain": [
       "                                                   text  target  \\\n",
       "0                  deed reason earthquake allah forgive       1   \n",
       "1                 forest fire near la ronge sask canada       1   \n",
       "2     resident ask shelter place notify officer evac...       1   \n",
       "3     13,000 people receive wildfire evacuation orde...       1   \n",
       "4     got send photo ruby alaska smoke wildfire pour...       1   \n",
       "...                                                 ...     ...   \n",
       "7608       giant crane hold bridge collapse nearby home       1   \n",
       "7609  control wild fire california northern state tr...       1   \n",
       "7610                                km s volcano hawaii       1   \n",
       "7611  police investigate e bike collide car little p...       1   \n",
       "7612  late home raze northern california wildfire ab...       1   \n",
       "\n",
       "                                                 vector  \n",
       "0     [-0.89539003, -0.5874631, 0.08199149, -0.11371...  \n",
       "1     [0.07400574, -0.65609676, 0.013855304, -0.0177...  \n",
       "2     [-0.117496446, -0.99588853, -0.09731466, 0.196...  \n",
       "3     [-0.0027969608, -0.56024474, -0.19756572, 0.53...  \n",
       "4     [-0.11239079, -0.8295834, -0.023216102, 0.2934...  \n",
       "...                                                 ...  \n",
       "7608  [0.31862608, -0.64759594, 0.1749067, 0.1417640...  \n",
       "7609  [0.034349207, -0.72486347, 0.3763735, -0.00739...  \n",
       "7610  [-0.29387802, -0.42656365, 0.15048648, 0.29720...  \n",
       "7611  [-0.18011016, -0.75524974, 0.18318109, 0.01033...  \n",
       "7612  [-0.22243857, -0.9344048, 0.23316473, 0.249122...  \n",
       "\n",
       "[7613 rows x 3 columns]"
      ]
     },
     "execution_count": 14,
     "metadata": {},
     "output_type": "execute_result"
    }
   ],
   "source": [
    "train_df"
   ]
  },
  {
   "cell_type": "markdown",
   "id": "085d0c8d",
   "metadata": {},
   "source": [
    "**Independent and dependent variables**"
   ]
  },
  {
   "cell_type": "code",
   "execution_count": 15,
   "id": "cc22ff03",
   "metadata": {},
   "outputs": [],
   "source": [
    "df = train_df['vector'].tolist()\n",
    "y = train_df['target']"
   ]
  },
  {
   "cell_type": "code",
   "execution_count": 16,
   "id": "e6096363",
   "metadata": {},
   "outputs": [],
   "source": [
    "df = pd.DataFrame(df)"
   ]
  },
  {
   "cell_type": "code",
   "execution_count": 17,
   "id": "b3b8fa89",
   "metadata": {},
   "outputs": [
    {
     "data": {
      "text/plain": [
       "0     6\n",
       "1     6\n",
       "2     6\n",
       "3     6\n",
       "4     6\n",
       "     ..\n",
       "91    6\n",
       "92    6\n",
       "93    6\n",
       "94    6\n",
       "95    6\n",
       "Length: 96, dtype: int64"
      ]
     },
     "execution_count": 17,
     "metadata": {},
     "output_type": "execute_result"
    }
   ],
   "source": [
    "df.isna().sum()"
   ]
  },
  {
   "cell_type": "code",
   "execution_count": 18,
   "id": "26a1887b",
   "metadata": {},
   "outputs": [
    {
     "data": {
      "text/plain": [
       "0       1\n",
       "1       1\n",
       "2       1\n",
       "3       1\n",
       "4       1\n",
       "       ..\n",
       "7608    1\n",
       "7609    1\n",
       "7610    1\n",
       "7611    1\n",
       "7612    1\n",
       "Name: target, Length: 7613, dtype: int64"
      ]
     },
     "execution_count": 18,
     "metadata": {},
     "output_type": "execute_result"
    }
   ],
   "source": [
    "y"
   ]
  },
  {
   "cell_type": "code",
   "execution_count": 19,
   "id": "dab071c9",
   "metadata": {},
   "outputs": [],
   "source": [
    "df['target'] = y"
   ]
  },
  {
   "cell_type": "code",
   "execution_count": 20,
   "id": "8ca199fe",
   "metadata": {},
   "outputs": [],
   "source": [
    "df.dropna(inplace=True)"
   ]
  },
  {
   "cell_type": "code",
   "execution_count": 21,
   "id": "ef2a6c72",
   "metadata": {},
   "outputs": [
    {
     "data": {
      "text/html": [
       "<div>\n",
       "<style scoped>\n",
       "    .dataframe tbody tr th:only-of-type {\n",
       "        vertical-align: middle;\n",
       "    }\n",
       "\n",
       "    .dataframe tbody tr th {\n",
       "        vertical-align: top;\n",
       "    }\n",
       "\n",
       "    .dataframe thead th {\n",
       "        text-align: right;\n",
       "    }\n",
       "</style>\n",
       "<table border=\"1\" class=\"dataframe\">\n",
       "  <thead>\n",
       "    <tr style=\"text-align: right;\">\n",
       "      <th></th>\n",
       "      <th>0</th>\n",
       "      <th>1</th>\n",
       "      <th>2</th>\n",
       "      <th>3</th>\n",
       "      <th>4</th>\n",
       "      <th>5</th>\n",
       "      <th>6</th>\n",
       "      <th>7</th>\n",
       "      <th>8</th>\n",
       "      <th>9</th>\n",
       "      <th>...</th>\n",
       "      <th>87</th>\n",
       "      <th>88</th>\n",
       "      <th>89</th>\n",
       "      <th>90</th>\n",
       "      <th>91</th>\n",
       "      <th>92</th>\n",
       "      <th>93</th>\n",
       "      <th>94</th>\n",
       "      <th>95</th>\n",
       "      <th>target</th>\n",
       "    </tr>\n",
       "  </thead>\n",
       "  <tbody>\n",
       "    <tr>\n",
       "      <th>0</th>\n",
       "      <td>-0.895390</td>\n",
       "      <td>-0.587463</td>\n",
       "      <td>0.081991</td>\n",
       "      <td>-0.113714</td>\n",
       "      <td>-0.014137</td>\n",
       "      <td>-0.064646</td>\n",
       "      <td>0.452483</td>\n",
       "      <td>1.026274</td>\n",
       "      <td>-0.082400</td>\n",
       "      <td>0.298462</td>\n",
       "      <td>...</td>\n",
       "      <td>-0.556970</td>\n",
       "      <td>-0.417347</td>\n",
       "      <td>0.113828</td>\n",
       "      <td>0.142716</td>\n",
       "      <td>0.111567</td>\n",
       "      <td>0.696028</td>\n",
       "      <td>0.721950</td>\n",
       "      <td>-0.108424</td>\n",
       "      <td>0.060130</td>\n",
       "      <td>1</td>\n",
       "    </tr>\n",
       "    <tr>\n",
       "      <th>1</th>\n",
       "      <td>0.074006</td>\n",
       "      <td>-0.656097</td>\n",
       "      <td>0.013855</td>\n",
       "      <td>-0.017742</td>\n",
       "      <td>-0.134844</td>\n",
       "      <td>0.016132</td>\n",
       "      <td>0.271434</td>\n",
       "      <td>0.336150</td>\n",
       "      <td>0.213258</td>\n",
       "      <td>-0.019220</td>\n",
       "      <td>...</td>\n",
       "      <td>-0.570109</td>\n",
       "      <td>-0.703247</td>\n",
       "      <td>0.863128</td>\n",
       "      <td>-0.240738</td>\n",
       "      <td>0.066787</td>\n",
       "      <td>1.015142</td>\n",
       "      <td>0.689716</td>\n",
       "      <td>-0.029478</td>\n",
       "      <td>0.553038</td>\n",
       "      <td>1</td>\n",
       "    </tr>\n",
       "    <tr>\n",
       "      <th>2</th>\n",
       "      <td>-0.117496</td>\n",
       "      <td>-0.995889</td>\n",
       "      <td>-0.097315</td>\n",
       "      <td>0.196346</td>\n",
       "      <td>-0.073871</td>\n",
       "      <td>0.036694</td>\n",
       "      <td>0.537511</td>\n",
       "      <td>1.121843</td>\n",
       "      <td>-0.324463</td>\n",
       "      <td>0.024909</td>\n",
       "      <td>...</td>\n",
       "      <td>-0.586454</td>\n",
       "      <td>-1.263514</td>\n",
       "      <td>0.349022</td>\n",
       "      <td>0.121524</td>\n",
       "      <td>0.388857</td>\n",
       "      <td>0.729882</td>\n",
       "      <td>0.797178</td>\n",
       "      <td>-0.350199</td>\n",
       "      <td>-0.139567</td>\n",
       "      <td>1</td>\n",
       "    </tr>\n",
       "    <tr>\n",
       "      <th>3</th>\n",
       "      <td>-0.002797</td>\n",
       "      <td>-0.560245</td>\n",
       "      <td>-0.197566</td>\n",
       "      <td>0.532752</td>\n",
       "      <td>0.576862</td>\n",
       "      <td>-0.314657</td>\n",
       "      <td>0.334603</td>\n",
       "      <td>0.795719</td>\n",
       "      <td>-0.068185</td>\n",
       "      <td>-0.115510</td>\n",
       "      <td>...</td>\n",
       "      <td>-0.508185</td>\n",
       "      <td>-0.876154</td>\n",
       "      <td>0.347084</td>\n",
       "      <td>0.124063</td>\n",
       "      <td>-0.259225</td>\n",
       "      <td>0.937639</td>\n",
       "      <td>0.716441</td>\n",
       "      <td>0.048756</td>\n",
       "      <td>-0.071078</td>\n",
       "      <td>1</td>\n",
       "    </tr>\n",
       "    <tr>\n",
       "      <th>4</th>\n",
       "      <td>-0.112391</td>\n",
       "      <td>-0.829583</td>\n",
       "      <td>-0.023216</td>\n",
       "      <td>0.293478</td>\n",
       "      <td>-0.582142</td>\n",
       "      <td>0.161157</td>\n",
       "      <td>0.121242</td>\n",
       "      <td>0.424783</td>\n",
       "      <td>0.063690</td>\n",
       "      <td>-0.101462</td>\n",
       "      <td>...</td>\n",
       "      <td>-0.394347</td>\n",
       "      <td>-0.752432</td>\n",
       "      <td>0.826523</td>\n",
       "      <td>-0.008746</td>\n",
       "      <td>-0.137176</td>\n",
       "      <td>0.792115</td>\n",
       "      <td>0.773200</td>\n",
       "      <td>0.030032</td>\n",
       "      <td>0.229144</td>\n",
       "      <td>1</td>\n",
       "    </tr>\n",
       "    <tr>\n",
       "      <th>...</th>\n",
       "      <td>...</td>\n",
       "      <td>...</td>\n",
       "      <td>...</td>\n",
       "      <td>...</td>\n",
       "      <td>...</td>\n",
       "      <td>...</td>\n",
       "      <td>...</td>\n",
       "      <td>...</td>\n",
       "      <td>...</td>\n",
       "      <td>...</td>\n",
       "      <td>...</td>\n",
       "      <td>...</td>\n",
       "      <td>...</td>\n",
       "      <td>...</td>\n",
       "      <td>...</td>\n",
       "      <td>...</td>\n",
       "      <td>...</td>\n",
       "      <td>...</td>\n",
       "      <td>...</td>\n",
       "      <td>...</td>\n",
       "      <td>...</td>\n",
       "    </tr>\n",
       "    <tr>\n",
       "      <th>7608</th>\n",
       "      <td>0.318626</td>\n",
       "      <td>-0.647596</td>\n",
       "      <td>0.174907</td>\n",
       "      <td>0.141764</td>\n",
       "      <td>-0.314060</td>\n",
       "      <td>0.072563</td>\n",
       "      <td>0.249417</td>\n",
       "      <td>0.509106</td>\n",
       "      <td>0.468901</td>\n",
       "      <td>-0.135762</td>\n",
       "      <td>...</td>\n",
       "      <td>-0.493622</td>\n",
       "      <td>-1.189895</td>\n",
       "      <td>1.171815</td>\n",
       "      <td>-0.142032</td>\n",
       "      <td>0.041124</td>\n",
       "      <td>0.931174</td>\n",
       "      <td>0.840161</td>\n",
       "      <td>-0.085842</td>\n",
       "      <td>0.152812</td>\n",
       "      <td>1</td>\n",
       "    </tr>\n",
       "    <tr>\n",
       "      <th>7609</th>\n",
       "      <td>0.034349</td>\n",
       "      <td>-0.724863</td>\n",
       "      <td>0.376373</td>\n",
       "      <td>-0.007399</td>\n",
       "      <td>-0.242269</td>\n",
       "      <td>0.137670</td>\n",
       "      <td>0.013584</td>\n",
       "      <td>0.379860</td>\n",
       "      <td>0.346273</td>\n",
       "      <td>-0.512194</td>\n",
       "      <td>...</td>\n",
       "      <td>-0.311138</td>\n",
       "      <td>-1.155591</td>\n",
       "      <td>1.439204</td>\n",
       "      <td>0.004883</td>\n",
       "      <td>0.172133</td>\n",
       "      <td>1.265559</td>\n",
       "      <td>0.895384</td>\n",
       "      <td>0.035129</td>\n",
       "      <td>0.255190</td>\n",
       "      <td>1</td>\n",
       "    </tr>\n",
       "    <tr>\n",
       "      <th>7610</th>\n",
       "      <td>-0.293878</td>\n",
       "      <td>-0.426564</td>\n",
       "      <td>0.150486</td>\n",
       "      <td>0.297206</td>\n",
       "      <td>0.033403</td>\n",
       "      <td>-0.429485</td>\n",
       "      <td>0.713133</td>\n",
       "      <td>1.422183</td>\n",
       "      <td>1.013595</td>\n",
       "      <td>0.447605</td>\n",
       "      <td>...</td>\n",
       "      <td>0.321616</td>\n",
       "      <td>-0.619466</td>\n",
       "      <td>0.036494</td>\n",
       "      <td>-0.448501</td>\n",
       "      <td>0.139824</td>\n",
       "      <td>1.152019</td>\n",
       "      <td>0.066802</td>\n",
       "      <td>-0.474980</td>\n",
       "      <td>0.770276</td>\n",
       "      <td>1</td>\n",
       "    </tr>\n",
       "    <tr>\n",
       "      <th>7611</th>\n",
       "      <td>-0.180110</td>\n",
       "      <td>-0.755250</td>\n",
       "      <td>0.183181</td>\n",
       "      <td>0.010334</td>\n",
       "      <td>-0.290267</td>\n",
       "      <td>-0.145843</td>\n",
       "      <td>0.498589</td>\n",
       "      <td>0.845360</td>\n",
       "      <td>-0.119036</td>\n",
       "      <td>-0.024466</td>\n",
       "      <td>...</td>\n",
       "      <td>-0.529604</td>\n",
       "      <td>-0.787873</td>\n",
       "      <td>0.393475</td>\n",
       "      <td>-0.135648</td>\n",
       "      <td>0.137705</td>\n",
       "      <td>0.880755</td>\n",
       "      <td>0.782657</td>\n",
       "      <td>-0.241021</td>\n",
       "      <td>0.429154</td>\n",
       "      <td>1</td>\n",
       "    </tr>\n",
       "    <tr>\n",
       "      <th>7612</th>\n",
       "      <td>-0.222439</td>\n",
       "      <td>-0.934405</td>\n",
       "      <td>0.233165</td>\n",
       "      <td>0.249122</td>\n",
       "      <td>0.037900</td>\n",
       "      <td>-0.101755</td>\n",
       "      <td>-0.013434</td>\n",
       "      <td>1.130390</td>\n",
       "      <td>0.261714</td>\n",
       "      <td>0.062359</td>\n",
       "      <td>...</td>\n",
       "      <td>-0.234850</td>\n",
       "      <td>-1.200918</td>\n",
       "      <td>1.065403</td>\n",
       "      <td>0.383398</td>\n",
       "      <td>0.212443</td>\n",
       "      <td>1.082677</td>\n",
       "      <td>0.528229</td>\n",
       "      <td>-0.205351</td>\n",
       "      <td>0.006750</td>\n",
       "      <td>1</td>\n",
       "    </tr>\n",
       "  </tbody>\n",
       "</table>\n",
       "<p>7607 rows × 97 columns</p>\n",
       "</div>"
      ],
      "text/plain": [
       "             0         1         2         3         4         5         6  \\\n",
       "0    -0.895390 -0.587463  0.081991 -0.113714 -0.014137 -0.064646  0.452483   \n",
       "1     0.074006 -0.656097  0.013855 -0.017742 -0.134844  0.016132  0.271434   \n",
       "2    -0.117496 -0.995889 -0.097315  0.196346 -0.073871  0.036694  0.537511   \n",
       "3    -0.002797 -0.560245 -0.197566  0.532752  0.576862 -0.314657  0.334603   \n",
       "4    -0.112391 -0.829583 -0.023216  0.293478 -0.582142  0.161157  0.121242   \n",
       "...        ...       ...       ...       ...       ...       ...       ...   \n",
       "7608  0.318626 -0.647596  0.174907  0.141764 -0.314060  0.072563  0.249417   \n",
       "7609  0.034349 -0.724863  0.376373 -0.007399 -0.242269  0.137670  0.013584   \n",
       "7610 -0.293878 -0.426564  0.150486  0.297206  0.033403 -0.429485  0.713133   \n",
       "7611 -0.180110 -0.755250  0.183181  0.010334 -0.290267 -0.145843  0.498589   \n",
       "7612 -0.222439 -0.934405  0.233165  0.249122  0.037900 -0.101755 -0.013434   \n",
       "\n",
       "             7         8         9  ...        87        88        89  \\\n",
       "0     1.026274 -0.082400  0.298462  ... -0.556970 -0.417347  0.113828   \n",
       "1     0.336150  0.213258 -0.019220  ... -0.570109 -0.703247  0.863128   \n",
       "2     1.121843 -0.324463  0.024909  ... -0.586454 -1.263514  0.349022   \n",
       "3     0.795719 -0.068185 -0.115510  ... -0.508185 -0.876154  0.347084   \n",
       "4     0.424783  0.063690 -0.101462  ... -0.394347 -0.752432  0.826523   \n",
       "...        ...       ...       ...  ...       ...       ...       ...   \n",
       "7608  0.509106  0.468901 -0.135762  ... -0.493622 -1.189895  1.171815   \n",
       "7609  0.379860  0.346273 -0.512194  ... -0.311138 -1.155591  1.439204   \n",
       "7610  1.422183  1.013595  0.447605  ...  0.321616 -0.619466  0.036494   \n",
       "7611  0.845360 -0.119036 -0.024466  ... -0.529604 -0.787873  0.393475   \n",
       "7612  1.130390  0.261714  0.062359  ... -0.234850 -1.200918  1.065403   \n",
       "\n",
       "            90        91        92        93        94        95  target  \n",
       "0     0.142716  0.111567  0.696028  0.721950 -0.108424  0.060130       1  \n",
       "1    -0.240738  0.066787  1.015142  0.689716 -0.029478  0.553038       1  \n",
       "2     0.121524  0.388857  0.729882  0.797178 -0.350199 -0.139567       1  \n",
       "3     0.124063 -0.259225  0.937639  0.716441  0.048756 -0.071078       1  \n",
       "4    -0.008746 -0.137176  0.792115  0.773200  0.030032  0.229144       1  \n",
       "...        ...       ...       ...       ...       ...       ...     ...  \n",
       "7608 -0.142032  0.041124  0.931174  0.840161 -0.085842  0.152812       1  \n",
       "7609  0.004883  0.172133  1.265559  0.895384  0.035129  0.255190       1  \n",
       "7610 -0.448501  0.139824  1.152019  0.066802 -0.474980  0.770276       1  \n",
       "7611 -0.135648  0.137705  0.880755  0.782657 -0.241021  0.429154       1  \n",
       "7612  0.383398  0.212443  1.082677  0.528229 -0.205351  0.006750       1  \n",
       "\n",
       "[7607 rows x 97 columns]"
      ]
     },
     "execution_count": 21,
     "metadata": {},
     "output_type": "execute_result"
    }
   ],
   "source": [
    "df"
   ]
  },
  {
   "cell_type": "code",
   "execution_count": 22,
   "id": "4b21b94e",
   "metadata": {},
   "outputs": [],
   "source": [
    "X = df.iloc[:,:-1]\n",
    "y = df['target']"
   ]
  },
  {
   "cell_type": "code",
   "execution_count": 23,
   "id": "56302b3f",
   "metadata": {},
   "outputs": [
    {
     "data": {
      "text/html": [
       "<div>\n",
       "<style scoped>\n",
       "    .dataframe tbody tr th:only-of-type {\n",
       "        vertical-align: middle;\n",
       "    }\n",
       "\n",
       "    .dataframe tbody tr th {\n",
       "        vertical-align: top;\n",
       "    }\n",
       "\n",
       "    .dataframe thead th {\n",
       "        text-align: right;\n",
       "    }\n",
       "</style>\n",
       "<table border=\"1\" class=\"dataframe\">\n",
       "  <thead>\n",
       "    <tr style=\"text-align: right;\">\n",
       "      <th></th>\n",
       "      <th>0</th>\n",
       "      <th>1</th>\n",
       "      <th>2</th>\n",
       "      <th>3</th>\n",
       "      <th>4</th>\n",
       "      <th>5</th>\n",
       "      <th>6</th>\n",
       "      <th>7</th>\n",
       "      <th>8</th>\n",
       "      <th>9</th>\n",
       "      <th>...</th>\n",
       "      <th>86</th>\n",
       "      <th>87</th>\n",
       "      <th>88</th>\n",
       "      <th>89</th>\n",
       "      <th>90</th>\n",
       "      <th>91</th>\n",
       "      <th>92</th>\n",
       "      <th>93</th>\n",
       "      <th>94</th>\n",
       "      <th>95</th>\n",
       "    </tr>\n",
       "  </thead>\n",
       "  <tbody>\n",
       "    <tr>\n",
       "      <th>0</th>\n",
       "      <td>-0.895390</td>\n",
       "      <td>-0.587463</td>\n",
       "      <td>0.081991</td>\n",
       "      <td>-0.113714</td>\n",
       "      <td>-0.014137</td>\n",
       "      <td>-0.064646</td>\n",
       "      <td>0.452483</td>\n",
       "      <td>1.026274</td>\n",
       "      <td>-0.082400</td>\n",
       "      <td>0.298462</td>\n",
       "      <td>...</td>\n",
       "      <td>-0.008982</td>\n",
       "      <td>-0.556970</td>\n",
       "      <td>-0.417347</td>\n",
       "      <td>0.113828</td>\n",
       "      <td>0.142716</td>\n",
       "      <td>0.111567</td>\n",
       "      <td>0.696028</td>\n",
       "      <td>0.721950</td>\n",
       "      <td>-0.108424</td>\n",
       "      <td>0.060130</td>\n",
       "    </tr>\n",
       "    <tr>\n",
       "      <th>1</th>\n",
       "      <td>0.074006</td>\n",
       "      <td>-0.656097</td>\n",
       "      <td>0.013855</td>\n",
       "      <td>-0.017742</td>\n",
       "      <td>-0.134844</td>\n",
       "      <td>0.016132</td>\n",
       "      <td>0.271434</td>\n",
       "      <td>0.336150</td>\n",
       "      <td>0.213258</td>\n",
       "      <td>-0.019220</td>\n",
       "      <td>...</td>\n",
       "      <td>0.169486</td>\n",
       "      <td>-0.570109</td>\n",
       "      <td>-0.703247</td>\n",
       "      <td>0.863128</td>\n",
       "      <td>-0.240738</td>\n",
       "      <td>0.066787</td>\n",
       "      <td>1.015142</td>\n",
       "      <td>0.689716</td>\n",
       "      <td>-0.029478</td>\n",
       "      <td>0.553038</td>\n",
       "    </tr>\n",
       "    <tr>\n",
       "      <th>2</th>\n",
       "      <td>-0.117496</td>\n",
       "      <td>-0.995889</td>\n",
       "      <td>-0.097315</td>\n",
       "      <td>0.196346</td>\n",
       "      <td>-0.073871</td>\n",
       "      <td>0.036694</td>\n",
       "      <td>0.537511</td>\n",
       "      <td>1.121843</td>\n",
       "      <td>-0.324463</td>\n",
       "      <td>0.024909</td>\n",
       "      <td>...</td>\n",
       "      <td>-0.048081</td>\n",
       "      <td>-0.586454</td>\n",
       "      <td>-1.263514</td>\n",
       "      <td>0.349022</td>\n",
       "      <td>0.121524</td>\n",
       "      <td>0.388857</td>\n",
       "      <td>0.729882</td>\n",
       "      <td>0.797178</td>\n",
       "      <td>-0.350199</td>\n",
       "      <td>-0.139567</td>\n",
       "    </tr>\n",
       "    <tr>\n",
       "      <th>3</th>\n",
       "      <td>-0.002797</td>\n",
       "      <td>-0.560245</td>\n",
       "      <td>-0.197566</td>\n",
       "      <td>0.532752</td>\n",
       "      <td>0.576862</td>\n",
       "      <td>-0.314657</td>\n",
       "      <td>0.334603</td>\n",
       "      <td>0.795719</td>\n",
       "      <td>-0.068185</td>\n",
       "      <td>-0.115510</td>\n",
       "      <td>...</td>\n",
       "      <td>-0.213854</td>\n",
       "      <td>-0.508185</td>\n",
       "      <td>-0.876154</td>\n",
       "      <td>0.347084</td>\n",
       "      <td>0.124063</td>\n",
       "      <td>-0.259225</td>\n",
       "      <td>0.937639</td>\n",
       "      <td>0.716441</td>\n",
       "      <td>0.048756</td>\n",
       "      <td>-0.071078</td>\n",
       "    </tr>\n",
       "    <tr>\n",
       "      <th>4</th>\n",
       "      <td>-0.112391</td>\n",
       "      <td>-0.829583</td>\n",
       "      <td>-0.023216</td>\n",
       "      <td>0.293478</td>\n",
       "      <td>-0.582142</td>\n",
       "      <td>0.161157</td>\n",
       "      <td>0.121242</td>\n",
       "      <td>0.424783</td>\n",
       "      <td>0.063690</td>\n",
       "      <td>-0.101462</td>\n",
       "      <td>...</td>\n",
       "      <td>0.158607</td>\n",
       "      <td>-0.394347</td>\n",
       "      <td>-0.752432</td>\n",
       "      <td>0.826523</td>\n",
       "      <td>-0.008746</td>\n",
       "      <td>-0.137176</td>\n",
       "      <td>0.792115</td>\n",
       "      <td>0.773200</td>\n",
       "      <td>0.030032</td>\n",
       "      <td>0.229144</td>\n",
       "    </tr>\n",
       "    <tr>\n",
       "      <th>...</th>\n",
       "      <td>...</td>\n",
       "      <td>...</td>\n",
       "      <td>...</td>\n",
       "      <td>...</td>\n",
       "      <td>...</td>\n",
       "      <td>...</td>\n",
       "      <td>...</td>\n",
       "      <td>...</td>\n",
       "      <td>...</td>\n",
       "      <td>...</td>\n",
       "      <td>...</td>\n",
       "      <td>...</td>\n",
       "      <td>...</td>\n",
       "      <td>...</td>\n",
       "      <td>...</td>\n",
       "      <td>...</td>\n",
       "      <td>...</td>\n",
       "      <td>...</td>\n",
       "      <td>...</td>\n",
       "      <td>...</td>\n",
       "      <td>...</td>\n",
       "    </tr>\n",
       "    <tr>\n",
       "      <th>7608</th>\n",
       "      <td>0.318626</td>\n",
       "      <td>-0.647596</td>\n",
       "      <td>0.174907</td>\n",
       "      <td>0.141764</td>\n",
       "      <td>-0.314060</td>\n",
       "      <td>0.072563</td>\n",
       "      <td>0.249417</td>\n",
       "      <td>0.509106</td>\n",
       "      <td>0.468901</td>\n",
       "      <td>-0.135762</td>\n",
       "      <td>...</td>\n",
       "      <td>0.136646</td>\n",
       "      <td>-0.493622</td>\n",
       "      <td>-1.189895</td>\n",
       "      <td>1.171815</td>\n",
       "      <td>-0.142032</td>\n",
       "      <td>0.041124</td>\n",
       "      <td>0.931174</td>\n",
       "      <td>0.840161</td>\n",
       "      <td>-0.085842</td>\n",
       "      <td>0.152812</td>\n",
       "    </tr>\n",
       "    <tr>\n",
       "      <th>7609</th>\n",
       "      <td>0.034349</td>\n",
       "      <td>-0.724863</td>\n",
       "      <td>0.376373</td>\n",
       "      <td>-0.007399</td>\n",
       "      <td>-0.242269</td>\n",
       "      <td>0.137670</td>\n",
       "      <td>0.013584</td>\n",
       "      <td>0.379860</td>\n",
       "      <td>0.346273</td>\n",
       "      <td>-0.512194</td>\n",
       "      <td>...</td>\n",
       "      <td>0.267460</td>\n",
       "      <td>-0.311138</td>\n",
       "      <td>-1.155591</td>\n",
       "      <td>1.439204</td>\n",
       "      <td>0.004883</td>\n",
       "      <td>0.172133</td>\n",
       "      <td>1.265559</td>\n",
       "      <td>0.895384</td>\n",
       "      <td>0.035129</td>\n",
       "      <td>0.255190</td>\n",
       "    </tr>\n",
       "    <tr>\n",
       "      <th>7610</th>\n",
       "      <td>-0.293878</td>\n",
       "      <td>-0.426564</td>\n",
       "      <td>0.150486</td>\n",
       "      <td>0.297206</td>\n",
       "      <td>0.033403</td>\n",
       "      <td>-0.429485</td>\n",
       "      <td>0.713133</td>\n",
       "      <td>1.422183</td>\n",
       "      <td>1.013595</td>\n",
       "      <td>0.447605</td>\n",
       "      <td>...</td>\n",
       "      <td>-0.253790</td>\n",
       "      <td>0.321616</td>\n",
       "      <td>-0.619466</td>\n",
       "      <td>0.036494</td>\n",
       "      <td>-0.448501</td>\n",
       "      <td>0.139824</td>\n",
       "      <td>1.152019</td>\n",
       "      <td>0.066802</td>\n",
       "      <td>-0.474980</td>\n",
       "      <td>0.770276</td>\n",
       "    </tr>\n",
       "    <tr>\n",
       "      <th>7611</th>\n",
       "      <td>-0.180110</td>\n",
       "      <td>-0.755250</td>\n",
       "      <td>0.183181</td>\n",
       "      <td>0.010334</td>\n",
       "      <td>-0.290267</td>\n",
       "      <td>-0.145843</td>\n",
       "      <td>0.498589</td>\n",
       "      <td>0.845360</td>\n",
       "      <td>-0.119036</td>\n",
       "      <td>-0.024466</td>\n",
       "      <td>...</td>\n",
       "      <td>-0.174900</td>\n",
       "      <td>-0.529604</td>\n",
       "      <td>-0.787873</td>\n",
       "      <td>0.393475</td>\n",
       "      <td>-0.135648</td>\n",
       "      <td>0.137705</td>\n",
       "      <td>0.880755</td>\n",
       "      <td>0.782657</td>\n",
       "      <td>-0.241021</td>\n",
       "      <td>0.429154</td>\n",
       "    </tr>\n",
       "    <tr>\n",
       "      <th>7612</th>\n",
       "      <td>-0.222439</td>\n",
       "      <td>-0.934405</td>\n",
       "      <td>0.233165</td>\n",
       "      <td>0.249122</td>\n",
       "      <td>0.037900</td>\n",
       "      <td>-0.101755</td>\n",
       "      <td>-0.013434</td>\n",
       "      <td>1.130390</td>\n",
       "      <td>0.261714</td>\n",
       "      <td>0.062359</td>\n",
       "      <td>...</td>\n",
       "      <td>0.136445</td>\n",
       "      <td>-0.234850</td>\n",
       "      <td>-1.200918</td>\n",
       "      <td>1.065403</td>\n",
       "      <td>0.383398</td>\n",
       "      <td>0.212443</td>\n",
       "      <td>1.082677</td>\n",
       "      <td>0.528229</td>\n",
       "      <td>-0.205351</td>\n",
       "      <td>0.006750</td>\n",
       "    </tr>\n",
       "  </tbody>\n",
       "</table>\n",
       "<p>7607 rows × 96 columns</p>\n",
       "</div>"
      ],
      "text/plain": [
       "            0         1         2         3         4         5         6   \\\n",
       "0    -0.895390 -0.587463  0.081991 -0.113714 -0.014137 -0.064646  0.452483   \n",
       "1     0.074006 -0.656097  0.013855 -0.017742 -0.134844  0.016132  0.271434   \n",
       "2    -0.117496 -0.995889 -0.097315  0.196346 -0.073871  0.036694  0.537511   \n",
       "3    -0.002797 -0.560245 -0.197566  0.532752  0.576862 -0.314657  0.334603   \n",
       "4    -0.112391 -0.829583 -0.023216  0.293478 -0.582142  0.161157  0.121242   \n",
       "...        ...       ...       ...       ...       ...       ...       ...   \n",
       "7608  0.318626 -0.647596  0.174907  0.141764 -0.314060  0.072563  0.249417   \n",
       "7609  0.034349 -0.724863  0.376373 -0.007399 -0.242269  0.137670  0.013584   \n",
       "7610 -0.293878 -0.426564  0.150486  0.297206  0.033403 -0.429485  0.713133   \n",
       "7611 -0.180110 -0.755250  0.183181  0.010334 -0.290267 -0.145843  0.498589   \n",
       "7612 -0.222439 -0.934405  0.233165  0.249122  0.037900 -0.101755 -0.013434   \n",
       "\n",
       "            7         8         9   ...        86        87        88  \\\n",
       "0     1.026274 -0.082400  0.298462  ... -0.008982 -0.556970 -0.417347   \n",
       "1     0.336150  0.213258 -0.019220  ...  0.169486 -0.570109 -0.703247   \n",
       "2     1.121843 -0.324463  0.024909  ... -0.048081 -0.586454 -1.263514   \n",
       "3     0.795719 -0.068185 -0.115510  ... -0.213854 -0.508185 -0.876154   \n",
       "4     0.424783  0.063690 -0.101462  ...  0.158607 -0.394347 -0.752432   \n",
       "...        ...       ...       ...  ...       ...       ...       ...   \n",
       "7608  0.509106  0.468901 -0.135762  ...  0.136646 -0.493622 -1.189895   \n",
       "7609  0.379860  0.346273 -0.512194  ...  0.267460 -0.311138 -1.155591   \n",
       "7610  1.422183  1.013595  0.447605  ... -0.253790  0.321616 -0.619466   \n",
       "7611  0.845360 -0.119036 -0.024466  ... -0.174900 -0.529604 -0.787873   \n",
       "7612  1.130390  0.261714  0.062359  ...  0.136445 -0.234850 -1.200918   \n",
       "\n",
       "            89        90        91        92        93        94        95  \n",
       "0     0.113828  0.142716  0.111567  0.696028  0.721950 -0.108424  0.060130  \n",
       "1     0.863128 -0.240738  0.066787  1.015142  0.689716 -0.029478  0.553038  \n",
       "2     0.349022  0.121524  0.388857  0.729882  0.797178 -0.350199 -0.139567  \n",
       "3     0.347084  0.124063 -0.259225  0.937639  0.716441  0.048756 -0.071078  \n",
       "4     0.826523 -0.008746 -0.137176  0.792115  0.773200  0.030032  0.229144  \n",
       "...        ...       ...       ...       ...       ...       ...       ...  \n",
       "7608  1.171815 -0.142032  0.041124  0.931174  0.840161 -0.085842  0.152812  \n",
       "7609  1.439204  0.004883  0.172133  1.265559  0.895384  0.035129  0.255190  \n",
       "7610  0.036494 -0.448501  0.139824  1.152019  0.066802 -0.474980  0.770276  \n",
       "7611  0.393475 -0.135648  0.137705  0.880755  0.782657 -0.241021  0.429154  \n",
       "7612  1.065403  0.383398  0.212443  1.082677  0.528229 -0.205351  0.006750  \n",
       "\n",
       "[7607 rows x 96 columns]"
      ]
     },
     "execution_count": 23,
     "metadata": {},
     "output_type": "execute_result"
    }
   ],
   "source": [
    "X"
   ]
  },
  {
   "cell_type": "code",
   "execution_count": 24,
   "id": "ca4d1556",
   "metadata": {
    "scrolled": true
   },
   "outputs": [
    {
     "data": {
      "text/plain": [
       "0       1\n",
       "1       1\n",
       "2       1\n",
       "3       1\n",
       "4       1\n",
       "       ..\n",
       "7608    1\n",
       "7609    1\n",
       "7610    1\n",
       "7611    1\n",
       "7612    1\n",
       "Name: target, Length: 7607, dtype: int64"
      ]
     },
     "execution_count": 24,
     "metadata": {},
     "output_type": "execute_result"
    }
   ],
   "source": [
    "y"
   ]
  },
  {
   "cell_type": "markdown",
   "id": "cec52e02",
   "metadata": {},
   "source": [
    "**Train-Test splitt**"
   ]
  },
  {
   "cell_type": "code",
   "execution_count": 25,
   "id": "b88af720",
   "metadata": {},
   "outputs": [],
   "source": [
    "from sklearn.model_selection import train_test_split"
   ]
  },
  {
   "cell_type": "code",
   "execution_count": 26,
   "id": "72d6a9a1",
   "metadata": {},
   "outputs": [],
   "source": [
    "X_train, X_test, y_train, y_test = train_test_split(X,y,test_size=0.2,random_state=0)"
   ]
  },
  {
   "cell_type": "markdown",
   "id": "806e615f",
   "metadata": {},
   "source": [
    "**Scalling**"
   ]
  },
  {
   "cell_type": "code",
   "execution_count": 27,
   "id": "f8692098",
   "metadata": {},
   "outputs": [],
   "source": [
    "from sklearn.preprocessing import MinMaxScaler"
   ]
  },
  {
   "cell_type": "code",
   "execution_count": 28,
   "id": "c10a62bc",
   "metadata": {},
   "outputs": [],
   "source": [
    "scaler = MinMaxScaler()\n",
    "X_train = scaler.fit_transform(X_train)"
   ]
  },
  {
   "cell_type": "code",
   "execution_count": 29,
   "id": "86835a2f",
   "metadata": {},
   "outputs": [],
   "source": [
    "X_test = scaler.transform(X_test)"
   ]
  },
  {
   "cell_type": "code",
   "execution_count": 30,
   "id": "e23a3883",
   "metadata": {},
   "outputs": [
    {
     "data": {
      "text/plain": [
       "array([[0.78015634, 0.49084987, 0.73520523, ..., 0.50196738, 0.60739949,\n",
       "        0.37212321],\n",
       "       [0.74470213, 0.42755234, 0.47951727, ..., 0.39256869, 0.48134214,\n",
       "        0.46901389],\n",
       "       [0.78753899, 0.45439096, 0.58358209, ..., 0.43277843, 0.41036072,\n",
       "        0.39927737],\n",
       "       ...,\n",
       "       [0.60159221, 0.27664141, 0.70444831, ..., 0.30980856, 0.45451838,\n",
       "        0.37770822],\n",
       "       [0.66980138, 0.57335868, 0.57163737, ..., 0.46992664, 0.58804344,\n",
       "        0.45331886],\n",
       "       [0.76695359, 0.3707581 , 0.55909839, ..., 0.45000782, 0.35410569,\n",
       "        0.34590893]])"
      ]
     },
     "execution_count": 30,
     "metadata": {},
     "output_type": "execute_result"
    }
   ],
   "source": [
    "X_train"
   ]
  },
  {
   "cell_type": "code",
   "execution_count": 31,
   "id": "482269fc",
   "metadata": {},
   "outputs": [
    {
     "data": {
      "text/plain": [
       "3774    1\n",
       "260     0\n",
       "2915    1\n",
       "5667    0\n",
       "4817    1\n",
       "       ..\n",
       "4934    1\n",
       "3264    1\n",
       "1653    1\n",
       "2607    0\n",
       "2732    0\n",
       "Name: target, Length: 6085, dtype: int64"
      ]
     },
     "execution_count": 31,
     "metadata": {},
     "output_type": "execute_result"
    }
   ],
   "source": [
    "y_train"
   ]
  },
  {
   "cell_type": "markdown",
   "id": "52614c93",
   "metadata": {},
   "source": [
    "**SVM Classifier**"
   ]
  },
  {
   "cell_type": "code",
   "execution_count": 32,
   "id": "18a61fd4",
   "metadata": {},
   "outputs": [],
   "source": [
    "from sklearn.svm import SVC"
   ]
  },
  {
   "cell_type": "code",
   "execution_count": 33,
   "id": "115ce33d",
   "metadata": {},
   "outputs": [
    {
     "data": {
      "text/plain": [
       "SVC()"
      ]
     },
     "execution_count": 33,
     "metadata": {},
     "output_type": "execute_result"
    }
   ],
   "source": [
    "svm = SVC()\n",
    "svm.fit(X_train,y_train)"
   ]
  },
  {
   "cell_type": "code",
   "execution_count": 34,
   "id": "97e19655",
   "metadata": {},
   "outputs": [],
   "source": [
    "y_pred = svm.predict(X_test)"
   ]
  },
  {
   "cell_type": "code",
   "execution_count": 35,
   "id": "fe4cfc28",
   "metadata": {},
   "outputs": [
    {
     "data": {
      "text/plain": [
       "0.6800262812089356"
      ]
     },
     "execution_count": 35,
     "metadata": {},
     "output_type": "execute_result"
    }
   ],
   "source": [
    "accuracy = accuracy_score(y_test,y_pred)\n",
    "accuracy"
   ]
  },
  {
   "cell_type": "code",
   "execution_count": 36,
   "id": "f7d166c5",
   "metadata": {},
   "outputs": [
    {
     "data": {
      "text/plain": [
       "array([0, 1, 1, ..., 0, 0, 1], dtype=int64)"
      ]
     },
     "execution_count": 36,
     "metadata": {},
     "output_type": "execute_result"
    }
   ],
   "source": [
    "y_pred"
   ]
  },
  {
   "cell_type": "code",
   "execution_count": 37,
   "id": "218c055b",
   "metadata": {},
   "outputs": [
    {
     "data": {
      "text/plain": [
       "array([[684, 204],\n",
       "       [283, 351]], dtype=int64)"
      ]
     },
     "execution_count": 37,
     "metadata": {},
     "output_type": "execute_result"
    }
   ],
   "source": [
    "cf = confusion_matrix(y_test,y_pred)\n",
    "cf"
   ]
  },
  {
   "cell_type": "code",
   "execution_count": 38,
   "id": "9c11e4ba",
   "metadata": {},
   "outputs": [
    {
     "name": "stdout",
     "output_type": "stream",
     "text": [
      "              precision    recall  f1-score   support\n",
      "\n",
      "           0       0.71      0.77      0.74       888\n",
      "           1       0.63      0.55      0.59       634\n",
      "\n",
      "    accuracy                           0.68      1522\n",
      "   macro avg       0.67      0.66      0.66      1522\n",
      "weighted avg       0.68      0.68      0.68      1522\n",
      "\n"
     ]
    }
   ],
   "source": [
    "print(classification_report(y_test,y_pred))"
   ]
  },
  {
   "cell_type": "markdown",
   "id": "06e84189",
   "metadata": {},
   "source": [
    "**RandomForestClassifier**"
   ]
  },
  {
   "cell_type": "code",
   "execution_count": 39,
   "id": "3d68a41e",
   "metadata": {},
   "outputs": [],
   "source": [
    "from sklearn.ensemble import RandomForestClassifier"
   ]
  },
  {
   "cell_type": "code",
   "execution_count": 42,
   "id": "9e8d4b43",
   "metadata": {},
   "outputs": [],
   "source": [
    "rf = RandomForestClassifier()"
   ]
  },
  {
   "cell_type": "code",
   "execution_count": 43,
   "id": "195fd736",
   "metadata": {},
   "outputs": [
    {
     "data": {
      "text/plain": [
       "RandomForestClassifier()"
      ]
     },
     "execution_count": 43,
     "metadata": {},
     "output_type": "execute_result"
    }
   ],
   "source": [
    "rf.fit(X_train,y_train)"
   ]
  },
  {
   "cell_type": "code",
   "execution_count": 65,
   "id": "5d648036",
   "metadata": {},
   "outputs": [],
   "source": [
    "y_pred_rf = rf.predict(X_test)"
   ]
  },
  {
   "cell_type": "code",
   "execution_count": 66,
   "id": "664b88d6",
   "metadata": {},
   "outputs": [
    {
     "data": {
      "text/plain": [
       "0.6944809461235217"
      ]
     },
     "execution_count": 66,
     "metadata": {},
     "output_type": "execute_result"
    }
   ],
   "source": [
    "accuracy_rf = accuracy_score(y_test,y_pred_rf)\n",
    "accuracy_rf"
   ]
  },
  {
   "cell_type": "code",
   "execution_count": 67,
   "id": "d11a1675",
   "metadata": {},
   "outputs": [
    {
     "data": {
      "text/plain": [
       "array([[731, 157],\n",
       "       [308, 326]], dtype=int64)"
      ]
     },
     "execution_count": 67,
     "metadata": {},
     "output_type": "execute_result"
    }
   ],
   "source": [
    "cf_rf = confusion_matrix(y_test,y_pred_rf)\n",
    "cf_rf"
   ]
  },
  {
   "cell_type": "code",
   "execution_count": 68,
   "id": "17f46421",
   "metadata": {},
   "outputs": [
    {
     "name": "stdout",
     "output_type": "stream",
     "text": [
      "              precision    recall  f1-score   support\n",
      "\n",
      "           0       0.70      0.82      0.76       888\n",
      "           1       0.67      0.51      0.58       634\n",
      "\n",
      "    accuracy                           0.69      1522\n",
      "   macro avg       0.69      0.67      0.67      1522\n",
      "weighted avg       0.69      0.69      0.69      1522\n",
      "\n"
     ]
    }
   ],
   "source": [
    "print(classification_report(y_test,y_pred_rf))"
   ]
  },
  {
   "cell_type": "code",
   "execution_count": 40,
   "id": "5cc18e38",
   "metadata": {},
   "outputs": [],
   "source": [
    "from sklearn.model_selection import GridSearchCV"
   ]
  },
  {
   "cell_type": "code",
   "execution_count": 41,
   "id": "fa77227d",
   "metadata": {},
   "outputs": [],
   "source": [
    "def best_model(model):\n",
    "    print(model.best_score_)    \n",
    "    print(model.best_params_)\n",
    "    print(model.best_estimator_)"
   ]
  },
  {
   "cell_type": "code",
   "execution_count": 42,
   "id": "36987886",
   "metadata": {},
   "outputs": [
    {
     "name": "stdout",
     "output_type": "stream",
     "text": [
      "0.6862777321281841\n",
      "{'max_depth': 12, 'n_estimators': 150}\n",
      "RandomForestClassifier(max_depth=12, n_estimators=150)\n"
     ]
    }
   ],
   "source": [
    "param_grid = {'max_depth': [9, 10, 12, 15],'n_estimators':[100,150]}  # 'max_features': [64,76,88,96]\n",
    "RandFor_grid = GridSearchCV(RandomForestClassifier(), param_grid, cv=5, refit=True, verbose=0)\n",
    "RandFor_grid.fit(X_train,y_train)\n",
    "best_model(RandFor_grid)"
   ]
  },
  {
   "cell_type": "code",
   "execution_count": 43,
   "id": "27a53f43",
   "metadata": {},
   "outputs": [],
   "source": [
    "y_grid_rf = RandFor_grid.predict(X_test)"
   ]
  },
  {
   "cell_type": "code",
   "execution_count": 44,
   "id": "b949defb",
   "metadata": {},
   "outputs": [
    {
     "data": {
      "text/plain": [
       "0.695137976346912"
      ]
     },
     "execution_count": 44,
     "metadata": {},
     "output_type": "execute_result"
    }
   ],
   "source": [
    "accuracy_rf = accuracy_score(y_test,y_grid_rf)\n",
    "accuracy_rf"
   ]
  },
  {
   "cell_type": "code",
   "execution_count": 45,
   "id": "804551d9",
   "metadata": {},
   "outputs": [
    {
     "data": {
      "text/plain": [
       "array([[704, 184],\n",
       "       [280, 354]], dtype=int64)"
      ]
     },
     "execution_count": 45,
     "metadata": {},
     "output_type": "execute_result"
    }
   ],
   "source": [
    "cf_rf = confusion_matrix(y_test,y_grid_rf)\n",
    "cf_rf"
   ]
  },
  {
   "cell_type": "code",
   "execution_count": 46,
   "id": "2941e840",
   "metadata": {},
   "outputs": [
    {
     "name": "stdout",
     "output_type": "stream",
     "text": [
      "              precision    recall  f1-score   support\n",
      "\n",
      "           0       0.72      0.79      0.75       888\n",
      "           1       0.66      0.56      0.60       634\n",
      "\n",
      "    accuracy                           0.70      1522\n",
      "   macro avg       0.69      0.68      0.68      1522\n",
      "weighted avg       0.69      0.70      0.69      1522\n",
      "\n"
     ]
    }
   ],
   "source": [
    "print(classification_report(y_test,y_grid_rf))"
   ]
  },
  {
   "cell_type": "code",
   "execution_count": 47,
   "id": "17f0c97e",
   "metadata": {},
   "outputs": [
    {
     "data": {
      "text/plain": [
       "array([0, 1, 1, ..., 0, 0, 1], dtype=int64)"
      ]
     },
     "execution_count": 47,
     "metadata": {},
     "output_type": "execute_result"
    }
   ],
   "source": [
    "y_grid_rf"
   ]
  },
  {
   "cell_type": "markdown",
   "id": "0f804827",
   "metadata": {},
   "source": [
    "**XGBoost Classifier**"
   ]
  },
  {
   "cell_type": "code",
   "execution_count": 48,
   "id": "a8ee186b",
   "metadata": {},
   "outputs": [],
   "source": [
    "from xgboost import XGBClassifier"
   ]
  },
  {
   "cell_type": "code",
   "execution_count": 49,
   "id": "c5da3c21",
   "metadata": {},
   "outputs": [
    {
     "data": {
      "text/plain": [
       "XGBClassifier(base_score=None, booster=None, callbacks=None,\n",
       "              colsample_bylevel=None, colsample_bynode=None,\n",
       "              colsample_bytree=None, early_stopping_rounds=None,\n",
       "              enable_categorical=False, eval_metric=None, feature_types=None,\n",
       "              gamma=None, gpu_id=None, grow_policy=None, importance_type=None,\n",
       "              interaction_constraints=None, learning_rate=None, max_bin=None,\n",
       "              max_cat_threshold=None, max_cat_to_onehot=None,\n",
       "              max_delta_step=None, max_depth=None, max_leaves=None,\n",
       "              min_child_weight=None, missing=nan, monotone_constraints=None,\n",
       "              n_estimators=100, n_jobs=None, num_parallel_tree=None,\n",
       "              predictor=None, random_state=None, ...)"
      ]
     },
     "execution_count": 49,
     "metadata": {},
     "output_type": "execute_result"
    }
   ],
   "source": [
    "xgb = XGBClassifier()\n",
    "xgb.fit(X_train,y_train)"
   ]
  },
  {
   "cell_type": "code",
   "execution_count": 50,
   "id": "d04ccb35",
   "metadata": {},
   "outputs": [],
   "source": [
    "y_pred_xgb = xgb.predict(X_test)"
   ]
  },
  {
   "cell_type": "code",
   "execution_count": 51,
   "id": "1f007990",
   "metadata": {},
   "outputs": [
    {
     "data": {
      "text/plain": [
       "0.6668856767411301"
      ]
     },
     "execution_count": 51,
     "metadata": {},
     "output_type": "execute_result"
    }
   ],
   "source": [
    "accuracy_xgb = accuracy_score(y_test,y_pred_xgb)\n",
    "accuracy_xgb"
   ]
  },
  {
   "cell_type": "code",
   "execution_count": 52,
   "id": "2c13b525",
   "metadata": {},
   "outputs": [
    {
     "data": {
      "text/plain": [
       "array([[665, 223],\n",
       "       [284, 350]], dtype=int64)"
      ]
     },
     "execution_count": 52,
     "metadata": {},
     "output_type": "execute_result"
    }
   ],
   "source": [
    "cf_xgb = confusion_matrix(y_test,y_pred_xgb)\n",
    "cf_xgb"
   ]
  },
  {
   "cell_type": "code",
   "execution_count": 53,
   "id": "554ff4c1",
   "metadata": {},
   "outputs": [
    {
     "name": "stdout",
     "output_type": "stream",
     "text": [
      "              precision    recall  f1-score   support\n",
      "\n",
      "           0       0.70      0.75      0.72       888\n",
      "           1       0.61      0.55      0.58       634\n",
      "\n",
      "    accuracy                           0.67      1522\n",
      "   macro avg       0.66      0.65      0.65      1522\n",
      "weighted avg       0.66      0.67      0.66      1522\n",
      "\n"
     ]
    }
   ],
   "source": [
    "print(classification_report(y_test,y_pred_xgb))"
   ]
  },
  {
   "cell_type": "code",
   "execution_count": 55,
   "id": "4b342a2e",
   "metadata": {},
   "outputs": [
    {
     "name": "stdout",
     "output_type": "stream",
     "text": [
      "0.7018898931799507\n",
      "{'gamma': 0.001, 'learning_rate': 0.05, 'max_depth': 15, 'min_child_weight': 5, 'n_estimators': 150}\n",
      "XGBClassifier(base_score=None, booster=None, callbacks=None,\n",
      "              colsample_bylevel=None, colsample_bynode=None,\n",
      "              colsample_bytree=None, early_stopping_rounds=None,\n",
      "              enable_categorical=False, eval_metric=None, feature_types=None,\n",
      "              gamma=0.001, gpu_id=None, grow_policy=None, importance_type=None,\n",
      "              interaction_constraints=None, learning_rate=0.05, max_bin=None,\n",
      "              max_cat_threshold=None, max_cat_to_onehot=None,\n",
      "              max_delta_step=None, max_depth=15, max_leaves=None,\n",
      "              min_child_weight=5, missing=nan, monotone_constraints=None,\n",
      "              n_estimators=150, n_jobs=None, num_parallel_tree=None,\n",
      "              predictor=None, random_state=None, ...)\n"
     ]
    }
   ],
   "source": [
    "param_grid = {'max_depth': [9,12,15], 'gamma': [0.01,0.001,0.001],'min_child_weight':[1,5,10], 'learning_rate': [0.05,0.1, 0.2, 0.3], 'n_estimators':[100,150]}\n",
    "xgb_grid = GridSearchCV(XGBClassifier(), param_grid, cv=5, refit=True, verbose=0)\n",
    "xgb_grid.fit(X_train,y_train)\n",
    "best_model(xgb_grid)"
   ]
  },
  {
   "cell_type": "code",
   "execution_count": 56,
   "id": "f6238276",
   "metadata": {},
   "outputs": [],
   "source": [
    "y_grid_xgb = xgb_grid.predict(X_test)"
   ]
  },
  {
   "cell_type": "code",
   "execution_count": 57,
   "id": "99dbb4d4",
   "metadata": {},
   "outputs": [
    {
     "data": {
      "text/plain": [
       "0.695137976346912"
      ]
     },
     "execution_count": 57,
     "metadata": {},
     "output_type": "execute_result"
    }
   ],
   "source": [
    "accuracy_xgb_grid = accuracy_score(y_test,y_grid_xgb)\n",
    "accuracy_xgb_grid"
   ]
  },
  {
   "cell_type": "code",
   "execution_count": 58,
   "id": "9323f956",
   "metadata": {},
   "outputs": [
    {
     "data": {
      "text/plain": [
       "array([[707, 181],\n",
       "       [283, 351]], dtype=int64)"
      ]
     },
     "execution_count": 58,
     "metadata": {},
     "output_type": "execute_result"
    }
   ],
   "source": [
    "cf_xgb_grid = confusion_matrix(y_test,y_grid_xgb)\n",
    "cf_xgb_grid"
   ]
  },
  {
   "cell_type": "code",
   "execution_count": 59,
   "id": "032ddc67",
   "metadata": {},
   "outputs": [
    {
     "name": "stdout",
     "output_type": "stream",
     "text": [
      "              precision    recall  f1-score   support\n",
      "\n",
      "           0       0.71      0.80      0.75       888\n",
      "           1       0.66      0.55      0.60       634\n",
      "\n",
      "    accuracy                           0.70      1522\n",
      "   macro avg       0.69      0.67      0.68      1522\n",
      "weighted avg       0.69      0.70      0.69      1522\n",
      "\n"
     ]
    }
   ],
   "source": [
    "print(classification_report(y_test,y_grid_xgb))"
   ]
  },
  {
   "cell_type": "markdown",
   "id": "da8e437a",
   "metadata": {},
   "source": [
    "**Predicting Test set**"
   ]
  },
  {
   "cell_type": "code",
   "execution_count": 66,
   "id": "27d62c6b",
   "metadata": {},
   "outputs": [
    {
     "data": {
      "text/plain": [
       "array([[0.62460347, 0.61565903, 0.46367274, ..., 0.38170516, 0.48221029,\n",
       "        0.33350597],\n",
       "       [0.65018535, 0.46583835, 0.74057679, ..., 0.41925785, 0.34973092,\n",
       "        0.37163187],\n",
       "       [0.73578255, 0.3850607 , 0.56606055, ..., 0.44212285, 0.43244476,\n",
       "        0.41126395],\n",
       "       ...,\n",
       "       [0.62548315, 0.37680865, 0.4188104 , ..., 0.36881009, 0.47925582,\n",
       "        0.3948884 ],\n",
       "       [0.57764481, 0.43482179, 0.55934776, ..., 0.37599631, 0.44876776,\n",
       "        0.39062741],\n",
       "       [0.5934712 , 0.45656041, 0.64172883, ..., 0.32415138, 0.42598102,\n",
       "        0.44843877]])"
      ]
     },
     "execution_count": 66,
     "metadata": {},
     "output_type": "execute_result"
    }
   ],
   "source": [
    "test_X"
   ]
  },
  {
   "cell_type": "code",
   "execution_count": 61,
   "id": "ee7c573f",
   "metadata": {},
   "outputs": [],
   "source": [
    "test_df = test_df.drop(['id','keyword','location'], axis=1)\n",
    "test_df['text'] = test_df['text'].apply(data_cleaning)"
   ]
  },
  {
   "cell_type": "code",
   "execution_count": 62,
   "id": "6d372947",
   "metadata": {},
   "outputs": [],
   "source": [
    "test_df['vector'] = test_df['text'].apply(lambda x: nlp(x).vector)"
   ]
  },
  {
   "cell_type": "code",
   "execution_count": 63,
   "id": "8ed7b932",
   "metadata": {},
   "outputs": [],
   "source": [
    "test_X = test_df['vector'].tolist()"
   ]
  },
  {
   "cell_type": "code",
   "execution_count": 64,
   "id": "fc7c6a7f",
   "metadata": {},
   "outputs": [],
   "source": [
    "test_X = pd.DataFrame(test_X)"
   ]
  },
  {
   "cell_type": "code",
   "execution_count": 65,
   "id": "ef1f4e1f",
   "metadata": {},
   "outputs": [],
   "source": [
    "test_X = scaler.transform(test_X)"
   ]
  },
  {
   "cell_type": "markdown",
   "id": "dfd9e356",
   "metadata": {},
   "source": [
    "**Predicting test data**"
   ]
  },
  {
   "cell_type": "code",
   "execution_count": 68,
   "id": "7494b6ee",
   "metadata": {},
   "outputs": [],
   "source": [
    "test_y = xgb_grid.predict(test_X)"
   ]
  },
  {
   "cell_type": "code",
   "execution_count": 69,
   "id": "a457a867",
   "metadata": {},
   "outputs": [
    {
     "data": {
      "text/plain": [
       "array([1, 0, 1, ..., 1, 1, 1])"
      ]
     },
     "execution_count": 69,
     "metadata": {},
     "output_type": "execute_result"
    }
   ],
   "source": [
    "test_y"
   ]
  },
  {
   "cell_type": "code",
   "execution_count": 74,
   "id": "7139b958",
   "metadata": {},
   "outputs": [],
   "source": [
    "submission = pd.read_csv('sample_submission.csv')"
   ]
  },
  {
   "cell_type": "code",
   "execution_count": 75,
   "id": "ddd211a6",
   "metadata": {},
   "outputs": [],
   "source": [
    "submission['target'] = test_y"
   ]
  },
  {
   "cell_type": "code",
   "execution_count": 77,
   "id": "cb913a88",
   "metadata": {},
   "outputs": [],
   "source": [
    "submission.to_csv('sample_submission.csv',index=False)"
   ]
  }
 ],
 "metadata": {
  "kernelspec": {
   "display_name": "Python 3 (ipykernel)",
   "language": "python",
   "name": "python3"
  },
  "language_info": {
   "codemirror_mode": {
    "name": "ipython",
    "version": 3
   },
   "file_extension": ".py",
   "mimetype": "text/x-python",
   "name": "python",
   "nbconvert_exporter": "python",
   "pygments_lexer": "ipython3",
   "version": "3.9.12"
  }
 },
 "nbformat": 4,
 "nbformat_minor": 5
}
